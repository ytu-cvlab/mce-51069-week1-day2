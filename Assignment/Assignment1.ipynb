{
 "cells": [
  {
   "cell_type": "markdown",
   "metadata": {},
   "source": [
    "# Assignments\n",
    "\n",
    "## Demo\n",
    "\n",
    "## Question 1 : [Create a Calculator](#cal)\n",
    "## Question 2 : [Find the Triangle Area](#tri)\n",
    "## Question 3 : [Calculate Mean Square Error](#mean)\n",
    "## Question 4 : [FizzBuzz](#fizz)\n",
    "## Question 5 : [Create Calculator Class](#cal_class)"
   ]
  },
  {
   "cell_type": "code",
   "execution_count": 3,
   "metadata": {},
   "outputs": [
    {
     "name": "stdout",
     "output_type": "stream",
     "text": [
      "Requirement already satisfied: nbimporter in /Users/kyihtwehan/opt/anaconda3/lib/python3.8/site-packages (0.3.3)\r\n"
     ]
    }
   ],
   "source": [
    "'''\n",
    "First install package for Testing.\n",
    "Only Need to run once.\n",
    "'''\n",
    "!pip install nbimporter"
   ]
  },
  {
   "cell_type": "code",
   "execution_count": 11,
   "metadata": {},
   "outputs": [],
   "source": [
    "# Demo\n",
    "# In the following functions, fill in the return block.\n",
    "def add(a, b):\n",
    "    #### CODE HERE #####\n",
    "    return \n",
    "\n",
    "def subtract(a, b):\n",
    "    #### CODE HERE #####\n",
    "    return\n",
    "\n",
    "def multiply(a, b):\n",
    "    #### CODE HERE #####\n",
    "    return\n",
    "\n",
    "def divide(a, b):\n",
    "    #### CODE HERE #####\n",
    "    return"
   ]
  },
  {
   "cell_type": "code",
   "execution_count": 3,
   "metadata": {},
   "outputs": [],
   "source": [
    "# Demo Answer\n",
    "def add(a, b):\n",
    "    #### CODE HERE #####\n",
    "    return a+b\n",
    "\n",
    "def subtract(a, b):\n",
    "    #### CODE HERE #####\n",
    "    return a-b\n",
    "\n",
    "def multiply(a, b):\n",
    "    #### CODE HERE #####\n",
    "    return a*b\n",
    "\n",
    "def divide(a, b):\n",
    "    #### CODE HERE #####\n",
    "    return a/b"
   ]
  },
  {
   "cell_type": "code",
   "execution_count": 20,
   "metadata": {},
   "outputs": [
    {
     "name": "stdout",
     "output_type": "stream",
     "text": [
      "Importing Jupyter notebook from Assignment1.ipynb\n",
      "test_add (__main__.TestNotebook) ... ok\n",
      "test_divide (__main__.TestNotebook) ... ok\n",
      "test_multiply (__main__.TestNotebook) ... ok\n",
      "test_subtract (__main__.TestNotebook) ... ok\n",
      "\n",
      "----------------------------------------------------------------------\n",
      "Ran 4 tests in 0.001s\n",
      "\n",
      "OK\n"
     ]
    }
   ],
   "source": [
    "!python \"test/testA1_demo.py\""
   ]
  },
  {
   "cell_type": "markdown",
   "metadata": {},
   "source": [
    "<a id=cal></a>\n",
    "## Question 1 : Create a calculator\n",
    "\n",
    "**Example**<br>\n",
    "`calculator(a = 1, b = 2, operation='add')` --> `3`<br>\n",
    "`calculator(a = -1, b = -5, operation='subtract')` --> `4`<br>\n",
    "`calculator(a = 2, b = 4, operation='multiply')` --> `8`<br>\n",
    "`calculator(a = 2, b = 4, operation='division')` --> `0.5`"
   ]
  },
  {
   "cell_type": "code",
   "execution_count": 1,
   "metadata": {},
   "outputs": [],
   "source": [
    "operations = ['add', 'subtract', 'multiply', 'divide']\n",
    "\n",
    "def calculator(a, b, operation='add'):\n",
    "    '''\n",
    "    Args:\n",
    "        a(Int, Float), b(Int, Float)\n",
    "        operation(String): one of the operation from operations list.\n",
    "    Return:\n",
    "        corresponding operation output.\n",
    "    '''\n",
    "    #### CODE HERE #####\n",
    "    return"
   ]
  },
  {
   "cell_type": "markdown",
   "metadata": {},
   "source": [
    "<a id=tri></a>\n",
    "## Question 2: Find the triangle Area\n",
    "\n",
    "**Example**<br>\n",
    "`triangle_area(b=3, h=4)` --> `6`<br>"
   ]
  },
  {
   "cell_type": "code",
   "execution_count": 1,
   "metadata": {},
   "outputs": [],
   "source": [
    "def triangle_area(b, h):\n",
    "    '''\n",
    "    Args:\n",
    "        b(Int, Float) Base of triangle\n",
    "        h(Int, Float) Height of triangle\n",
    "    Return:\n",
    "        area(Int, Float) Area of triangle\n",
    "    '''\n",
    "    #### CODE HERE #####\n",
    "    return"
   ]
  },
  {
   "cell_type": "markdown",
   "metadata": {},
   "source": [
    "<a id=mean></a>\n",
    "## Question 3: Calculate Mean Square Error\n",
    "\n",
    "**Example**<br>\n",
    "`mean_square_error(elementA=3 , elementB=4)` --> `0.5`<br>\n",
    "\n",
    "Reference : https://en.wikipedia.org/wiki/Mean_squared_error"
   ]
  },
  {
   "cell_type": "code",
   "execution_count": 1,
   "metadata": {},
   "outputs": [],
   "source": [
    "def mean_square_error(elementA, elementB):\n",
    "    '''\n",
    "    Args:\n",
    "        elementA(Int, Float), elementB(Int, Float)\n",
    "    Return:\n",
    "        mse(Float) : Mean Square Error Between Two Elements.\n",
    "    '''\n",
    "    #### CODE HERE #####\n",
    "    return "
   ]
  },
  {
   "cell_type": "markdown",
   "metadata": {},
   "source": [
    "<a id=fizz></a>\n",
    "## Question 4: FizzBuzz\n",
    "\n",
    "**Example**<br>\n",
    "\n",
    "`fizzbuzz(n=5)` --> `[\"1\", \"2\", \"Fizz\", \"4\", \"Buzz\"]`<br>\n",
    "`fizzbuzz(n=10)` --> `[\"1\", \"2\", \"Fizz\", \"4\", \"Buzz\", \"Fizz\", \"7\", \"8\", \"Fizz\", \"Buzz\"]`\n",
    "`fizzbuzz(n=15)` --> `[\"1\", \"2\", \"Fizz\", \"4\", \"Buzz\", \"Fizz\", \"7\", \"8\", \"Fizz\", \"Buzz\", \"11\", \"Fizz\", \"13\", \"14\", \"FizzBuzz\"]`\n",
    "\n",
    "Reference : https://en.wikipedia.org/wiki/Fizz_buzz"
   ]
  },
  {
   "cell_type": "code",
   "execution_count": 1,
   "metadata": {},
   "outputs": [],
   "source": [
    "def fizzbuzz(n):\n",
    "    '''\n",
    "    Args:\n",
    "        n(Int) : number to be displayed\n",
    "    Return:\n",
    "        fizzbuzz sequence.\n",
    "        eg. if n =15, output = [\"1\", \"2\", \"Fizz\", \"4\", \"Buzz\", \"Fizz\", \"7\", \"8\", \"Fizz\", \"Buzz\", \"11\", \"Fizz\", \"13\", \"14\", \"FizzBuzz\"]\n",
    "    '''\n",
    "    #### CODE HERE #####\n",
    "    output = []\n",
    "    return output"
   ]
  },
  {
   "cell_type": "markdown",
   "metadata": {},
   "source": [
    "<a id=cal_class></a>\n",
    "## Question 5: Calculator Class\n",
    "\n",
    "**Example**<br>\n",
    "\n",
    "```python\n",
    "cal = calculator(2, 5)\n",
    "```\n",
    "\n",
    "`cal.add()` --> `7`<br>\n",
    "`cal.subtract()` --> `-3`<br>\n",
    "`cal.multiply()` --> `10`<br>\n",
    "`cal.division()` --> `0.4`"
   ]
  },
  {
   "cell_type": "code",
   "execution_count": null,
   "metadata": {},
   "outputs": [],
   "source": [
    "class Calculator:\n",
    "    def __init__(self, a, b):\n",
    "        self.a = a\n",
    "        self.b = b\n",
    "        \n",
    "    def add(self):\n",
    "        #### CODE HERE #####\n",
    "        return\n",
    "\n",
    "    def subtract(self):\n",
    "        #### CODE HERE #####\n",
    "        return\n",
    "    \n",
    "    def multiply(self):\n",
    "        #### CODE HERE #####\n",
    "        return\n",
    "    \n",
    "    def divide(self):\n",
    "        #### CODE HERE #####\n",
    "        return"
   ]
  },
  {
   "cell_type": "markdown",
   "metadata": {},
   "source": [
    "### Testing the solutions before submitting"
   ]
  },
  {
   "cell_type": "code",
   "execution_count": 4,
   "metadata": {},
   "outputs": [
    {
     "name": "stdout",
     "output_type": "stream",
     "text": [
      "Importing Jupyter notebook from Assignment1.ipynb\n",
      "test_add (__main__.TestNotebook) ... ok\n",
      "\n",
      "----------------------------------------------------------------------\n",
      "Ran 1 test in 0.000s\n",
      "\n",
      "OK\n"
     ]
    }
   ],
   "source": [
    "!python \"test/testA1.py\""
   ]
  },
  {
   "cell_type": "code",
   "execution_count": null,
   "metadata": {},
   "outputs": [],
   "source": []
  }
 ],
 "metadata": {
  "kernelspec": {
   "display_name": "Python 3",
   "language": "python",
   "name": "python3"
  },
  "language_info": {
   "codemirror_mode": {
    "name": "ipython",
    "version": 3
   },
   "file_extension": ".py",
   "mimetype": "text/x-python",
   "name": "python",
   "nbconvert_exporter": "python",
   "pygments_lexer": "ipython3",
   "version": "3.8.5"
  }
 },
 "nbformat": 4,
 "nbformat_minor": 4
}
