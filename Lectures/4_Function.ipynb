{
 "cells": [
  {
   "cell_type": "markdown",
   "metadata": {},
   "source": [
    "# Functions\n",
    "\n",
    "Functions are great arsenal in python. \n",
    "\n",
    "You could think of **functions** as a factory, **process** `(do function)` the **raw inputs** `(Arguments)` to **desired products** `(output)`.\n",
    "There are two types of functions in Python.\n",
    " 1. [Built-in Functions](#built_in)\n",
    " 2. [User-Defined Functions](#user)"
   ]
  },
  {
   "cell_type": "markdown",
   "metadata": {},
   "source": [
    "<a id=built_in></a>\n",
    "## Built-in Functions\n",
    "\n",
    "We've already seen a few example of built-in functions when learning about Data Types in Python. Built-in Functions, come along with python and could be very useful when you need them.\n",
    "\n",
    "Following are some examples of built-in functions."
   ]
  },
  {
   "cell_type": "code",
   "execution_count": 1,
   "metadata": {},
   "outputs": [
    {
     "name": "stdout",
     "output_type": "stream",
     "text": [
      "-5\n",
      "5\n",
      "-5 <class 'str'>\n",
      "True\n"
     ]
    }
   ],
   "source": [
    "int_obj = -5\n",
    "print(int_obj)\n",
    "\n",
    "# Find the absolute value\n",
    "abs_int = abs(int_obj)\n",
    "print(abs_int)\n",
    "\n",
    "# Convert Int to String\n",
    "int2str = str(int_obj)\n",
    "print(int2str, type(int2str))\n",
    "\n",
    "# Check the datatype\n",
    "print(isinstance(int_obj, int))"
   ]
  },
  {
   "cell_type": "markdown",
   "metadata": {},
   "source": [
    "We can also use built-in functions to construct data-structures."
   ]
  },
  {
   "cell_type": "code",
   "execution_count": 2,
   "metadata": {},
   "outputs": [
    {
     "name": "stdout",
     "output_type": "stream",
     "text": [
      "{1, 2, 3}\n",
      "[1, 2, 3, 1, 2, 3]\n",
      "(1, 2, 3, 1, 2, 3)\n",
      "{1: 'a', 2: 'b'}\n"
     ]
    }
   ],
   "source": [
    "set_obj = set((1, 2, 3, 1, 2, 3))\n",
    "print(set_obj)\n",
    "\n",
    "list_obj = list((1, 2, 3, 1, 2, 3))\n",
    "print(list_obj)\n",
    "\n",
    "tuple_obj = tuple((1, 2, 3, 1, 2, 3))\n",
    "print(tuple_obj)\n",
    "\n",
    "dict_obj = dict([(1,\"a\"), (2, \"b\")])\n",
    "print(dict_obj)"
   ]
  },
  {
   "cell_type": "markdown",
   "metadata": {},
   "source": [
    "You can use built-in `help` function to see the details about the object."
   ]
  },
  {
   "cell_type": "code",
   "execution_count": 4,
   "metadata": {
    "collapsed": true,
    "jupyter": {
     "outputs_hidden": true
    }
   },
   "outputs": [
    {
     "name": "stdout",
     "output_type": "stream",
     "text": [
      "Help on dict object:\n",
      "\n",
      "class dict(object)\n",
      " |  dict() -> new empty dictionary\n",
      " |  dict(mapping) -> new dictionary initialized from a mapping object's\n",
      " |      (key, value) pairs\n",
      " |  dict(iterable) -> new dictionary initialized as if via:\n",
      " |      d = {}\n",
      " |      for k, v in iterable:\n",
      " |          d[k] = v\n",
      " |  dict(**kwargs) -> new dictionary initialized with the name=value pairs\n",
      " |      in the keyword argument list.  For example:  dict(one=1, two=2)\n",
      " |  \n",
      " |  Built-in subclasses:\n",
      " |      StgDict\n",
      " |  \n",
      " |  Methods defined here:\n",
      " |  \n",
      " |  __contains__(self, key, /)\n",
      " |      True if the dictionary has the specified key, else False.\n",
      " |  \n",
      " |  __delitem__(self, key, /)\n",
      " |      Delete self[key].\n",
      " |  \n",
      " |  __eq__(self, value, /)\n",
      " |      Return self==value.\n",
      " |  \n",
      " |  __ge__(self, value, /)\n",
      " |      Return self>=value.\n",
      " |  \n",
      " |  __getattribute__(self, name, /)\n",
      " |      Return getattr(self, name).\n",
      " |  \n",
      " |  __getitem__(...)\n",
      " |      x.__getitem__(y) <==> x[y]\n",
      " |  \n",
      " |  __gt__(self, value, /)\n",
      " |      Return self>value.\n",
      " |  \n",
      " |  __init__(self, /, *args, **kwargs)\n",
      " |      Initialize self.  See help(type(self)) for accurate signature.\n",
      " |  \n",
      " |  __iter__(self, /)\n",
      " |      Implement iter(self).\n",
      " |  \n",
      " |  __le__(self, value, /)\n",
      " |      Return self<=value.\n",
      " |  \n",
      " |  __len__(self, /)\n",
      " |      Return len(self).\n",
      " |  \n",
      " |  __lt__(self, value, /)\n",
      " |      Return self<value.\n",
      " |  \n",
      " |  __ne__(self, value, /)\n",
      " |      Return self!=value.\n",
      " |  \n",
      " |  __repr__(self, /)\n",
      " |      Return repr(self).\n",
      " |  \n",
      " |  __reversed__(self, /)\n",
      " |      Return a reverse iterator over the dict keys.\n",
      " |  \n",
      " |  __setitem__(self, key, value, /)\n",
      " |      Set self[key] to value.\n",
      " |  \n",
      " |  __sizeof__(...)\n",
      " |      D.__sizeof__() -> size of D in memory, in bytes\n",
      " |  \n",
      " |  clear(...)\n",
      " |      D.clear() -> None.  Remove all items from D.\n",
      " |  \n",
      " |  copy(...)\n",
      " |      D.copy() -> a shallow copy of D\n",
      " |  \n",
      " |  get(self, key, default=None, /)\n",
      " |      Return the value for key if key is in the dictionary, else default.\n",
      " |  \n",
      " |  items(...)\n",
      " |      D.items() -> a set-like object providing a view on D's items\n",
      " |  \n",
      " |  keys(...)\n",
      " |      D.keys() -> a set-like object providing a view on D's keys\n",
      " |  \n",
      " |  pop(...)\n",
      " |      D.pop(k[,d]) -> v, remove specified key and return the corresponding value.\n",
      " |      If key is not found, d is returned if given, otherwise KeyError is raised\n",
      " |  \n",
      " |  popitem(self, /)\n",
      " |      Remove and return a (key, value) pair as a 2-tuple.\n",
      " |      \n",
      " |      Pairs are returned in LIFO (last-in, first-out) order.\n",
      " |      Raises KeyError if the dict is empty.\n",
      " |  \n",
      " |  setdefault(self, key, default=None, /)\n",
      " |      Insert key with a value of default if key is not in the dictionary.\n",
      " |      \n",
      " |      Return the value for key if key is in the dictionary, else default.\n",
      " |  \n",
      " |  update(...)\n",
      " |      D.update([E, ]**F) -> None.  Update D from dict/iterable E and F.\n",
      " |      If E is present and has a .keys() method, then does:  for k in E: D[k] = E[k]\n",
      " |      If E is present and lacks a .keys() method, then does:  for k, v in E: D[k] = v\n",
      " |      In either case, this is followed by: for k in F:  D[k] = F[k]\n",
      " |  \n",
      " |  values(...)\n",
      " |      D.values() -> an object providing a view on D's values\n",
      " |  \n",
      " |  ----------------------------------------------------------------------\n",
      " |  Class methods defined here:\n",
      " |  \n",
      " |  fromkeys(iterable, value=None, /) from builtins.type\n",
      " |      Create a new dictionary with keys from iterable and values set to value.\n",
      " |  \n",
      " |  ----------------------------------------------------------------------\n",
      " |  Static methods defined here:\n",
      " |  \n",
      " |  __new__(*args, **kwargs) from builtins.type\n",
      " |      Create and return a new object.  See help(type) for accurate signature.\n",
      " |  \n",
      " |  ----------------------------------------------------------------------\n",
      " |  Data and other attributes defined here:\n",
      " |  \n",
      " |  __hash__ = None\n",
      "\n"
     ]
    }
   ],
   "source": [
    "help(dict_obj)"
   ]
  },
  {
   "cell_type": "markdown",
   "metadata": {},
   "source": [
    "<a id=user></a>\n",
    "## User-Defined Functions\n",
    "\n",
    "This section will consist of explaining what a function is in Python and how to create one. Functions will be one of our main building blocks when we construct larger and larger amounts of code to solve problems.\n",
    "\n",
    "![](animations/function.jpeg)\n",
    "\n",
    "Typical function in python consists of the following parts:\n",
    " 1. Input (Arguments in functions)\n",
    " 2. Process (What this function do)\n",
    " 3. Output (What this function return)\n",
    " \n",
    "In short, `IPO` for constructing a function.\n",
    "\n",
    "Functions will be one of most basic levels of reusing code in Python, and it will also allow us to start thinking of program design (we will dive much deeper into the ideas of design when we learn about Object Oriented Programming)."
   ]
  },
  {
   "cell_type": "markdown",
   "metadata": {},
   "source": [
    "### def Statements\n",
    "\n",
    "Let's see how to build out a function's syntax in Python. It has the following form:"
   ]
  },
  {
   "cell_type": "code",
   "execution_count": 8,
   "metadata": {},
   "outputs": [],
   "source": [
    "def function_name(arg1,arg2):\n",
    "    '''\n",
    "    This is where the function's Document String (docstring) goes\n",
    "    '''\n",
    "    # Do stuff here\n",
    "    # Return desired result"
   ]
  },
  {
   "cell_type": "markdown",
   "metadata": {},
   "source": [
    "We begin with def then a space, followed by the name of the function. Try to keep names relevant though they can be variable, for example `len()` is a good name for a length() function. Also be careful with names, you wouldn't want to call a function the same name as a built-in functions(such as **len**).\n",
    "\n",
    "Next comes a pair of parentheses with a number of arguments separated by a comma. These arguments are the inputs for your function. You'll be able to use these inputs in your function and reference them. After this you put a colon.\n",
    "\n",
    "Now here is the important step, you must *indent* to begin the code inside your function correctly. Python makes use of whitespace to organize code. Lots of other programing languages do not do this, so keep that in mind.\n",
    "\n",
    "Let's see the example of creating basic printing function."
   ]
  },
  {
   "cell_type": "code",
   "execution_count": 9,
   "metadata": {},
   "outputs": [
    {
     "name": "stdout",
     "output_type": "stream",
     "text": [
      "Hello World\n"
     ]
    }
   ],
   "source": [
    "# Define a function\n",
    "\n",
    "# No argument\n",
    "def print_hello():\n",
    "    print(\"Hello World\")\n",
    "\n",
    "print_hello()  # Call the funtion"
   ]
  },
  {
   "cell_type": "markdown",
   "metadata": {},
   "source": [
    "Let's see some functions with input arguments."
   ]
  },
  {
   "cell_type": "code",
   "execution_count": 1,
   "metadata": {},
   "outputs": [
    {
     "name": "stdout",
     "output_type": "stream",
     "text": [
      "Hello Aung Aung! Welcome.\n"
     ]
    }
   ],
   "source": [
    "# Argument with user name\n",
    "def print_hello(name):\n",
    "    \"\"\"\n",
    "    Print The User Name\n",
    "    Args:\n",
    "        name(String) -> User name\n",
    "    Return:\n",
    "        None\n",
    "    \"\"\"\n",
    "    print(f\"Hello {name}! Welcome.\")\n",
    "\n",
    "print_hello(\"Aung Aung\")    # Call the funtion"
   ]
  },
  {
   "cell_type": "code",
   "execution_count": 2,
   "metadata": {},
   "outputs": [
    {
     "name": "stdout",
     "output_type": "stream",
     "text": [
      "Hello Aung Aung! Welcome. You are now 22 years old.\n"
     ]
    }
   ],
   "source": [
    "# Arguments with different datatypes\n",
    "def print_hello(name, age):\n",
    "    \"\"\"\n",
    "    Print The User Name\n",
    "    Args:\n",
    "        name (String) -> User name\n",
    "        age  (Int) -> User Age\n",
    "    Return:\n",
    "        None\n",
    "    \"\"\"\n",
    "    print(f\"Hello {name}! Welcome. You are now {age} years old.\")\n",
    "\n",
    "print_hello(\"Aung Aung\", 22)    # Call the funtion"
   ]
  },
  {
   "cell_type": "markdown",
   "metadata": {},
   "source": [
    "Functions arguments can also have default values. See the example below."
   ]
  },
  {
   "cell_type": "code",
   "execution_count": 3,
   "metadata": {},
   "outputs": [
    {
     "name": "stdout",
     "output_type": "stream",
     "text": [
      "Hello Aung Aung! Welcome. You are now 18 years old.\n",
      "Hello Aung Aung! Welcome. You are now 22 years old.\n"
     ]
    }
   ],
   "source": [
    "# Argument having default value\n",
    "def print_hello(name, age = 18):\n",
    "    \"\"\"\n",
    "    Print The User Name\n",
    "    Args:\n",
    "        name (String) -> User name\n",
    "        age  (Int) -> User Age\n",
    "    Return:\n",
    "        None\n",
    "    \"\"\"\n",
    "    print(f\"Hello {name}! Welcome. You are now {age} years old.\")\n",
    "\n",
    "# Because the 'age' argument has default value, we don't need to provide value.\n",
    "print_hello(\"Aung Aung\")\n",
    "print_hello(\"Aung Aung\", 22)"
   ]
  },
  {
   "cell_type": "markdown",
   "metadata": {},
   "source": [
    "### Using return\n",
    "\n",
    "Let's see some examples that use a `return` statement. **return** allows a function to return a result that can then be stored as a variable, or used in whatever manner a user wants."
   ]
  },
  {
   "cell_type": "code",
   "execution_count": 17,
   "metadata": {},
   "outputs": [],
   "source": [
    "def add_num(num1,num2,num3):\n",
    "    return num1 + num2 + num3"
   ]
  },
  {
   "cell_type": "code",
   "execution_count": 18,
   "metadata": {},
   "outputs": [
    {
     "data": {
      "text/plain": [
       "6"
      ]
     },
     "execution_count": 18,
     "metadata": {},
     "output_type": "execute_result"
    }
   ],
   "source": [
    "# Calling the function\n",
    "add_num(1,2,3)"
   ]
  },
  {
   "cell_type": "code",
   "execution_count": 19,
   "metadata": {},
   "outputs": [],
   "source": [
    "# Can also save as variable due to return\n",
    "result = add_num(1,2,3)"
   ]
  },
  {
   "cell_type": "code",
   "execution_count": 20,
   "metadata": {},
   "outputs": [
    {
     "data": {
      "text/plain": [
       "6"
      ]
     },
     "execution_count": 20,
     "metadata": {},
     "output_type": "execute_result"
    }
   ],
   "source": [
    "result"
   ]
  },
  {
   "cell_type": "code",
   "execution_count": 21,
   "metadata": {},
   "outputs": [
    {
     "name": "stdout",
     "output_type": "stream",
     "text": [
      "8\n",
      "9\n"
     ]
    }
   ],
   "source": [
    "# Let's try to make a power function\n",
    "def power(base_num, pow_num):\n",
    "    \"\"\"\n",
    "    Calculate the power of base_num\n",
    "    Args:\n",
    "        base_num(Int) -> Base number for calculation\n",
    "        pow_num(Int) -> Power number for calculation\n",
    "    Return:\n",
    "        power_num(Int) -> Power number for calculation \n",
    "    \"\"\"\n",
    "    \n",
    "    return base_num ** pow_num\n",
    "\n",
    "# We can directly print out the value\n",
    "print(power(2, 3))\n",
    "\n",
    "# Or we can assign the output value to a variable and print.\n",
    "output = power(3, 2)\n",
    "print(output)"
   ]
  },
  {
   "cell_type": "markdown",
   "metadata": {},
   "source": [
    "## Further Resources\n",
    "\n",
    "If you want to learn more about built-in functions in more details, please visit to official Python [documentation](https://docs.python.org/3/library/functions.html#built-in-functions). You can also check [this](https://realpython.com/defining-your-own-python-function/) blog post about Functions."
   ]
  }
 ],
 "metadata": {
  "kernelspec": {
   "display_name": "Python 3",
   "language": "python",
   "name": "python3"
  },
  "language_info": {
   "codemirror_mode": {
    "name": "ipython",
    "version": 3
   },
   "file_extension": ".py",
   "mimetype": "text/x-python",
   "name": "python",
   "nbconvert_exporter": "python",
   "pygments_lexer": "ipython3",
   "version": "3.8.5"
  }
 },
 "nbformat": 4,
 "nbformat_minor": 4
}
