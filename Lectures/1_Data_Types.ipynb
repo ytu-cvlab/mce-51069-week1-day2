{
 "cells": [
  {
   "cell_type": "markdown",
   "metadata": {},
   "source": [
    "# Data Types\n",
    "\n",
    "In python, there are built-in data-types, some of which are described below:\n",
    "\n",
    " 1. Int (1 ,100, 99)\n",
    " 2. Float (1.0, 3.14, 2.718)\n",
    " 3. String (\"Myanmar\", \"Burma\")\n",
    " 4. Boolean (True, False)\n",
    " 5. Complex (1+0j)\n",
    " 6. null (None)\n",
    " \n",
    "To describe the various properties in the real world, we must use different data types.\n",
    "\n",
    "e.g., if we want to describe a person's `name`, we could use `String`.<br>\n",
    "<br>`Int` for his/her *age*, <br>`Float` for his/her *height* in (cm) and <br>`Boolean` if he/she is *graduated* or not.\n",
    "\n",
    ">The main take away from this lecture notebook is to know the differences between data types and their usage.\n",
    "\n",
    "## Table of Contents\n",
    "\n",
    " - [Four Most Used Data Types](#four_types)\n",
    " - [Arithmetic Operations on Number Data Types](#arithmetic)\n",
    " - [String Operations](#string)\n",
    " - [Boolean Operation](#boolean)\n",
    " - [Further Resources](#further)"
   ]
  },
  {
   "cell_type": "markdown",
   "metadata": {},
   "source": [
    "<a id=four_types></a>\n",
    "## Four Most Used Data Types\n",
    "\n",
    "We can store data of different types in variable names. See the example below:"
   ]
  },
  {
   "cell_type": "code",
   "execution_count": 2,
   "metadata": {},
   "outputs": [],
   "source": [
    "# Int\n",
    "int1 = 5\n",
    "int2 = 3\n",
    "\n",
    "# Float\n",
    "float1 = 1.\n",
    "float2 = 3.14\n",
    "\n",
    "# String\n",
    "string1 = \"Hello\"\n",
    "string2 = 'World'\n",
    "\n",
    "# Boolean\n",
    "bool1 = True\n",
    "bool2 = False"
   ]
  },
  {
   "cell_type": "markdown",
   "metadata": {},
   "source": [
    "`print` function is used to print the values of the variable to the output screen. "
   ]
  },
  {
   "cell_type": "code",
   "execution_count": 3,
   "metadata": {},
   "outputs": [
    {
     "name": "stdout",
     "output_type": "stream",
     "text": [
      "5\n"
     ]
    }
   ],
   "source": [
    "print(int1)"
   ]
  },
  {
   "cell_type": "markdown",
   "metadata": {},
   "source": [
    "We can check the datatype of the variable by using `type` function: "
   ]
  },
  {
   "cell_type": "code",
   "execution_count": 5,
   "metadata": {},
   "outputs": [
    {
     "data": {
      "text/plain": [
       "int"
      ]
     },
     "execution_count": 5,
     "metadata": {},
     "output_type": "execute_result"
    }
   ],
   "source": [
    "# We could check the datatype of the variable by:\n",
    "type(int1)"
   ]
  },
  {
   "cell_type": "markdown",
   "metadata": {},
   "source": [
    "<a id=arithmetic></a>\n",
    "## Arithmetic Operations on Number Data Types\n",
    "\n",
    "We could do arithmetic operations on Number Data Types (Int and Float) as shown below:"
   ]
  },
  {
   "cell_type": "code",
   "execution_count": 7,
   "metadata": {},
   "outputs": [
    {
     "name": "stdout",
     "output_type": "stream",
     "text": [
      "8\n",
      "2\n",
      "15\n",
      "1.6666666666666667\n",
      "2\n",
      "125\n",
      "\n",
      "4.140000000000001\n",
      "-2.14\n",
      "3.14\n",
      "0.3184713375796178\n",
      "1.0\n",
      "1.0\n"
     ]
    }
   ],
   "source": [
    "int1 = 5\n",
    "int2 = 3\n",
    "\n",
    "# We can add, subtract two elements of 'Int' dtype.\n",
    "print(int1 + int2) # Addition\n",
    "print(int1 - int2) # Subtraction\n",
    "print(int1 * int2) # Multiplication\n",
    "print(int1 / int2) # Division\n",
    "print(int1 % int2) # Remainder\n",
    "print(int1**int2) # Power\n",
    "print(\"\")\n",
    "\n",
    "float1 = 1.\n",
    "float2 = 3.14\n",
    "# We can also, do operations on `Float` dtype.\n",
    "print(float1 + float2)\n",
    "print(float1 - float2)\n",
    "print(float1 * float2)\n",
    "print(float1 / float2)\n",
    "print(float1 % float2)\n",
    "print(float1**float2)"
   ]
  },
  {
   "cell_type": "markdown",
   "metadata": {},
   "source": [
    "<a id=string></a>\n",
    "## String Operations"
   ]
  },
  {
   "cell_type": "markdown",
   "metadata": {},
   "source": [
    "We can use `'+'` operator to *concatenate* two strings."
   ]
  },
  {
   "cell_type": "code",
   "execution_count": 8,
   "metadata": {},
   "outputs": [
    {
     "name": "stdout",
     "output_type": "stream",
     "text": [
      "HelloWorld\n"
     ]
    }
   ],
   "source": [
    "# Simple concatenation of two strings\n",
    "\n",
    "concatenate_string = string1 + string2\n",
    "print(concatenate_string)"
   ]
  },
  {
   "cell_type": "markdown",
   "metadata": {},
   "source": [
    "We can also use `f-Strings` method for better formating of string.\n",
    "\n",
    "In `f-Strings` method, we can insert variables in the string format."
   ]
  },
  {
   "cell_type": "code",
   "execution_count": 1,
   "metadata": {},
   "outputs": [
    {
     "name": "stdout",
     "output_type": "stream",
     "text": [
      "Hello World, welcome to the wonderland\n",
      "Hello World, This is testing the f-Strings\n"
     ]
    }
   ],
   "source": [
    "# f-Strings method.\n",
    "f_string = f\"Hello World, welcome to the wonderland\"\n",
    "print(f_string)\n",
    "\n",
    "string1 = \"Hello\"\n",
    "string2 = \"World\"\n",
    "f_string_var = f\"{string1} {string2}, This is testing the f-Strings\"\n",
    "print(f_string_var)"
   ]
  },
  {
   "cell_type": "markdown",
   "metadata": {},
   "source": [
    "> Important: One thing to be aware of in Python, we can not add two variables of different data types.\n",
    "\n",
    "In the example described below, we try to add `Int` and `String` data types, which is not possible."
   ]
  },
  {
   "cell_type": "code",
   "execution_count": 22,
   "metadata": {},
   "outputs": [
    {
     "ename": "TypeError",
     "evalue": "can only concatenate str (not \"int\") to str",
     "output_type": "error",
     "traceback": [
      "\u001b[0;31m---------------------------------------------------------------------------\u001b[0m",
      "\u001b[0;31mTypeError\u001b[0m                                 Traceback (most recent call last)",
      "\u001b[0;32m<ipython-input-22-7f4a263b8c2b>\u001b[0m in \u001b[0;36m<module>\u001b[0;34m\u001b[0m\n\u001b[1;32m      2\u001b[0m \u001b[0mvar_b\u001b[0m \u001b[0;34m=\u001b[0m \u001b[0;36m5\u001b[0m\u001b[0;34m\u001b[0m\u001b[0;34m\u001b[0m\u001b[0m\n\u001b[1;32m      3\u001b[0m \u001b[0;34m\u001b[0m\u001b[0m\n\u001b[0;32m----> 4\u001b[0;31m \u001b[0mprint\u001b[0m\u001b[0;34m(\u001b[0m\u001b[0mvar_a\u001b[0m \u001b[0;34m+\u001b[0m \u001b[0mvar_b\u001b[0m\u001b[0;34m)\u001b[0m\u001b[0;34m\u001b[0m\u001b[0;34m\u001b[0m\u001b[0m\n\u001b[0m",
      "\u001b[0;31mTypeError\u001b[0m: can only concatenate str (not \"int\") to str"
     ]
    }
   ],
   "source": [
    "var_a = \"Hello\"\n",
    "var_b = 5\n",
    "\n",
    "print(var_a + var_b)"
   ]
  },
  {
   "cell_type": "code",
   "execution_count": 23,
   "metadata": {},
   "outputs": [
    {
     "ename": "ValueError",
     "evalue": "invalid literal for int() with base 10: 'Hello'",
     "output_type": "error",
     "traceback": [
      "\u001b[0;31m---------------------------------------------------------------------------\u001b[0m",
      "\u001b[0;31mValueError\u001b[0m                                Traceback (most recent call last)",
      "\u001b[0;32m<ipython-input-23-c93ae652aa67>\u001b[0m in \u001b[0;36m<module>\u001b[0;34m\u001b[0m\n\u001b[1;32m      1\u001b[0m \u001b[0;31m# Or this\u001b[0m\u001b[0;34m\u001b[0m\u001b[0;34m\u001b[0m\u001b[0;34m\u001b[0m\u001b[0m\n\u001b[0;32m----> 2\u001b[0;31m \u001b[0mprint\u001b[0m\u001b[0;34m(\u001b[0m\u001b[0mint\u001b[0m\u001b[0;34m(\u001b[0m\u001b[0mvar_a\u001b[0m\u001b[0;34m)\u001b[0m \u001b[0;34m+\u001b[0m \u001b[0mvar_b\u001b[0m\u001b[0;34m)\u001b[0m\u001b[0;34m\u001b[0m\u001b[0;34m\u001b[0m\u001b[0m\n\u001b[0m",
      "\u001b[0;31mValueError\u001b[0m: invalid literal for int() with base 10: 'Hello'"
     ]
    }
   ],
   "source": [
    "# Or this\n",
    "print(int(var_a) + var_b)"
   ]
  },
  {
   "cell_type": "markdown",
   "metadata": {},
   "source": [
    "When converting `String` to `Int`, if the value in that `String` is `Int`, then we can do addition."
   ]
  },
  {
   "cell_type": "code",
   "execution_count": 14,
   "metadata": {},
   "outputs": [
    {
     "name": "stdout",
     "output_type": "stream",
     "text": [
      "10\n"
     ]
    }
   ],
   "source": [
    "# we could, for example\n",
    "var_a = \"5\"\n",
    "var_b = 5\n",
    "\n",
    "print(int(var_a) + var_b)"
   ]
  },
  {
   "cell_type": "markdown",
   "metadata": {},
   "source": [
    "<a id=boolean></a>\n",
    "## Boolean Operation\n",
    "\n",
    "Boolean includes only two values, `True` and `False`.<br>\n",
    "> Note: The capital letter and small letter must be correctly spelled.<br>eg. `true` will not work.\n",
    "\n",
    "Boolean variables are often used in conditional operations, such as `if` and `while`."
   ]
  },
  {
   "cell_type": "code",
   "execution_count": 16,
   "metadata": {},
   "outputs": [
    {
     "name": "stdout",
     "output_type": "stream",
     "text": [
      "bool1 variable is True\n"
     ]
    }
   ],
   "source": [
    "bool1 = True\n",
    "bool2 = False\n",
    "\n",
    "# Check if a varible is True\n",
    "if bool1:\n",
    "    print(\"bool1 variable is True\")\n",
    "\n",
    "# This print statement is not working\n",
    "# because bool2 is not True\n",
    "if bool2:\n",
    "    print(\"bool2 variable is True\")"
   ]
  },
  {
   "cell_type": "code",
   "execution_count": 18,
   "metadata": {},
   "outputs": [
    {
     "name": "stdout",
     "output_type": "stream",
     "text": [
      "bool2 variable is False\n"
     ]
    }
   ],
   "source": [
    "# Check if a variable is False (not True)\n",
    "\n",
    "if not bool1:\n",
    "    print(\"bool1 variable is False\")\n",
    "\n",
    "if not bool2:\n",
    "    print(\"bool2 variable is False\")"
   ]
  },
  {
   "cell_type": "code",
   "execution_count": 21,
   "metadata": {},
   "outputs": [
    {
     "name": "stdout",
     "output_type": "stream",
     "text": [
      "At least one variable is True\n"
     ]
    }
   ],
   "source": [
    "# We could use AND, OR operation too.\n",
    "\n",
    "if bool1 and bool2:\n",
    "    print(\"Both Variables are True\")\n",
    "    \n",
    "if bool1 or bool2:\n",
    "    print(\"At least one variable is True\")"
   ]
  },
  {
   "cell_type": "markdown",
   "metadata": {},
   "source": [
    "<a id=further></a>\n",
    "## Further Resources"
   ]
  },
  {
   "cell_type": "markdown",
   "metadata": {},
   "source": [
    "If you want to learn more about data types and their operations in more details, please visit to official Python [documentation](https://docs.python.org/3/tutorial/introduction.html#numbers). You can also learn more about it in this blog post about [Basic Data Types in Python](https://realpython.com/python-data-types/)."
   ]
  },
  {
   "cell_type": "code",
   "execution_count": null,
   "metadata": {},
   "outputs": [],
   "source": []
  }
 ],
 "metadata": {
  "kernelspec": {
   "display_name": "Python 3",
   "language": "python",
   "name": "python3"
  },
  "language_info": {
   "codemirror_mode": {
    "name": "ipython",
    "version": 3
   },
   "file_extension": ".py",
   "mimetype": "text/x-python",
   "name": "python",
   "nbconvert_exporter": "python",
   "pygments_lexer": "ipython3",
   "version": "3.8.5"
  }
 },
 "nbformat": 4,
 "nbformat_minor": 4
}
