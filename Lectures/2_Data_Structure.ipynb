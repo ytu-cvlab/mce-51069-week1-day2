{
 "cells": [
  {
   "cell_type": "markdown",
   "metadata": {},
   "source": [
    "# Data Structures\n",
    "\n",
    "Python Data Structures are used to store and collect data. \n",
    "There are four basic built-in data structures in Python.\n",
    "\n",
    " 1. [list](#list)\n",
    " 2. [Tuple](#tuple)\n",
    " 3. [Set](#set)\n",
    " 4. [Dictionary](#dict)\n",
    " \n",
    "> [Tips For the Beginners](#tips)"
   ]
  },
  {
   "cell_type": "code",
   "execution_count": 14,
   "metadata": {},
   "outputs": [
    {
     "name": "stdout",
     "output_type": "stream",
     "text": [
      "<class 'list'> [1, 2, 3, 4, 1, 2, 3, 4]\n",
      "<class 'set'> {1, 2, 3, 4}\n",
      "<class 'tuple'> (1, 2, 3, 4, 1, 2, 3, 4)\n",
      "<class 'dict'> {'a': 1, 'b': 2, 'c': 3, 'd': 4, 'e': 1, 'f': 2}\n"
     ]
    }
   ],
   "source": [
    "# Simple Creation of each four types of structures\n",
    "\n",
    "list_obj = [1, 2, 3, 4, 1, 2, 3, 4]\n",
    "set_obj = {1, 2, 3, 4, 1, 2, 3, 4}\n",
    "tuple_obj = (1, 2, 3, 4, 1, 2, 3, 4)\n",
    "dict_obj = {'a':1, 'b':2, 'c':3, 'd':4, 'e':1, 'f':2}\n",
    "\n",
    "print(type(list_obj), list_obj)\n",
    "print(type(set_obj), set_obj)\n",
    "print(type(tuple_obj), tuple_obj)\n",
    "print(type(dict_obj), dict_obj)"
   ]
  },
  {
   "cell_type": "markdown",
   "metadata": {},
   "source": [
    "<a id=list></a>\n",
    "# List\n",
    "\n",
    "The Most commonly used data structure in Python, `List`, has the following properties :\n",
    " 1. Element are accessable with order\n",
    " 2. Mutable (variable values can be changed)\n"
   ]
  },
  {
   "cell_type": "code",
   "execution_count": 1,
   "metadata": {},
   "outputs": [
    {
     "name": "stdout",
     "output_type": "stream",
     "text": [
      "Heights of student in class...\n",
      "[170, 172, 174, 160, 178]\n"
     ]
    }
   ],
   "source": [
    "list_height = [170, 172, 174, 160, 178]\n",
    "\n",
    "print(\"Heights of student in class...\")\n",
    "print(list_height)"
   ]
  },
  {
   "cell_type": "markdown",
   "metadata": {},
   "source": [
    "## Access with Index\n",
    "\n",
    "![](animations/index_animation.gif)\n",
    "\n",
    "> Note: If we access element that is out of range, it will rasie `IndexError` as follows"
   ]
  },
  {
   "cell_type": "code",
   "execution_count": 4,
   "metadata": {},
   "outputs": [
    {
     "name": "stdout",
     "output_type": "stream",
     "text": [
      "Student A height :  170\n",
      "Student B height :  172\n",
      "Student A height :  174\n",
      "Student B height :  160\n",
      "Student A height :  178\n"
     ]
    },
    {
     "ename": "IndexError",
     "evalue": "list index out of range",
     "output_type": "error",
     "traceback": [
      "\u001b[0;31m---------------------------------------------------------------------------\u001b[0m",
      "\u001b[0;31mIndexError\u001b[0m                                Traceback (most recent call last)",
      "\u001b[0;32m<ipython-input-4-d5a3a372c0b9>\u001b[0m in \u001b[0;36m<module>\u001b[0;34m\u001b[0m\n\u001b[1;32m      4\u001b[0m \u001b[0mprint\u001b[0m\u001b[0;34m(\u001b[0m\u001b[0;34m\"Student B height : \"\u001b[0m\u001b[0;34m,\u001b[0m \u001b[0mlist_height\u001b[0m\u001b[0;34m[\u001b[0m\u001b[0;36m3\u001b[0m\u001b[0;34m]\u001b[0m\u001b[0;34m)\u001b[0m\u001b[0;34m\u001b[0m\u001b[0;34m\u001b[0m\u001b[0m\n\u001b[1;32m      5\u001b[0m \u001b[0mprint\u001b[0m\u001b[0;34m(\u001b[0m\u001b[0;34m\"Student A height : \"\u001b[0m\u001b[0;34m,\u001b[0m \u001b[0mlist_height\u001b[0m\u001b[0;34m[\u001b[0m\u001b[0;36m4\u001b[0m\u001b[0;34m]\u001b[0m\u001b[0;34m)\u001b[0m\u001b[0;34m\u001b[0m\u001b[0;34m\u001b[0m\u001b[0m\n\u001b[0;32m----> 6\u001b[0;31m \u001b[0mprint\u001b[0m\u001b[0;34m(\u001b[0m\u001b[0;34m\"Student B height : \"\u001b[0m\u001b[0;34m,\u001b[0m \u001b[0mlist_height\u001b[0m\u001b[0;34m[\u001b[0m\u001b[0;36m5\u001b[0m\u001b[0;34m]\u001b[0m\u001b[0;34m)\u001b[0m\u001b[0;34m\u001b[0m\u001b[0;34m\u001b[0m\u001b[0m\n\u001b[0m",
      "\u001b[0;31mIndexError\u001b[0m: list index out of range"
     ]
    }
   ],
   "source": [
    "print(\"Student A height : \", list_height[0])\n",
    "print(\"Student B height : \", list_height[1])\n",
    "print(\"Student A height : \", list_height[2])\n",
    "print(\"Student B height : \", list_height[3])\n",
    "print(\"Student A height : \", list_height[4])\n",
    "print(\"Student B height : \", list_height[5])"
   ]
  },
  {
   "cell_type": "markdown",
   "metadata": {},
   "source": [
    "```IndexError: list index out of range.```<br>\n",
    "Because there are only 5 elements in list, ```list_height[5]``` request for 6th element, which is out of range."
   ]
  },
  {
   "cell_type": "markdown",
   "metadata": {},
   "source": [
    "## Access with Iteration(For Loop)"
   ]
  },
  {
   "cell_type": "code",
   "execution_count": 2,
   "metadata": {},
   "outputs": [
    {
     "name": "stdout",
     "output_type": "stream",
     "text": [
      "170,172,174,160,178,\n",
      "There are 5 students in the class\n"
     ]
    }
   ],
   "source": [
    "num_student = 0\n",
    "\n",
    "for height in list_height:\n",
    "    num_student += 1\n",
    "    print(height, end = ',')\n",
    "    \n",
    "print(f\"\\nThere are {num_student} students in the class\")"
   ]
  },
  {
   "cell_type": "code",
   "execution_count": 3,
   "metadata": {},
   "outputs": [
    {
     "name": "stdout",
     "output_type": "stream",
     "text": [
      "Studnet height : 170 cm 5.58 feet\n",
      "Studnet height : 172 cm 5.64 feet\n",
      "Studnet height : 174 cm 5.71 feet\n",
      "Studnet height : 160 cm 5.25 feet\n",
      "Studnet height : 178 cm 5.84 feet\n"
     ]
    }
   ],
   "source": [
    "'''\n",
    "Simple Program:\n",
    "Convert height information in \"cm\" to \"feet\"\n",
    "'''\n",
    "\n",
    "# Convert cm to feet\n",
    "for height_cm in list_height:\n",
    "    height_feet = height_cm * 0.0328  # cm to feet equation\n",
    "    print(f\"Studnet height : {height_cm} cm {height_feet:.2f} feet\")"
   ]
  },
  {
   "cell_type": "markdown",
   "metadata": {},
   "source": [
    "## List with different Datatype\n",
    "\n",
    "We can store, not just one datatype, but variables with different data types in a list. "
   ]
  },
  {
   "cell_type": "code",
   "execution_count": 4,
   "metadata": {},
   "outputs": [
    {
     "name": "stdout",
     "output_type": "stream",
     "text": [
      "Student A Info :  ['Aung Aung', 'McE', 3, 6]\n",
      "Student B Info :  ['Soe Pyae', 'Civil', 3, 6]\n"
     ]
    }
   ],
   "source": [
    "student_A = [\"Aung Aung\", \"McE\", 3, 6]\n",
    "student_B = [\"Soe Pyae\", \"Civil\", 3, 6]\n",
    "\n",
    "print(\"Student A Info : \", student_A)\n",
    "print(\"Student B Info : \", student_B)"
   ]
  },
  {
   "cell_type": "code",
   "execution_count": 5,
   "metadata": {},
   "outputs": [
    {
     "name": "stdout",
     "output_type": "stream",
     "text": [
      "9\n",
      "Aung AungMcE\n"
     ]
    },
    {
     "ename": "TypeError",
     "evalue": "can only concatenate str (not \"int\") to str",
     "output_type": "error",
     "traceback": [
      "\u001b[1;31m---------------------------------------------------------------------------\u001b[0m",
      "\u001b[1;31mTypeError\u001b[0m                                 Traceback (most recent call last)",
      "\u001b[1;32m<ipython-input-5-b71be46f223e>\u001b[0m in \u001b[0;36m<module>\u001b[1;34m\u001b[0m\n\u001b[0;32m      2\u001b[0m \u001b[0mprint\u001b[0m\u001b[1;33m(\u001b[0m\u001b[0mstudent_A\u001b[0m\u001b[1;33m[\u001b[0m\u001b[1;36m2\u001b[0m\u001b[1;33m]\u001b[0m \u001b[1;33m+\u001b[0m \u001b[0mstudent_A\u001b[0m\u001b[1;33m[\u001b[0m\u001b[1;36m3\u001b[0m\u001b[1;33m]\u001b[0m\u001b[1;33m)\u001b[0m\u001b[1;33m\u001b[0m\u001b[1;33m\u001b[0m\u001b[0m\n\u001b[0;32m      3\u001b[0m \u001b[0mprint\u001b[0m\u001b[1;33m(\u001b[0m\u001b[0mstudent_A\u001b[0m\u001b[1;33m[\u001b[0m\u001b[1;36m0\u001b[0m\u001b[1;33m]\u001b[0m \u001b[1;33m+\u001b[0m \u001b[0mstudent_A\u001b[0m\u001b[1;33m[\u001b[0m\u001b[1;36m1\u001b[0m\u001b[1;33m]\u001b[0m\u001b[1;33m)\u001b[0m\u001b[1;33m\u001b[0m\u001b[1;33m\u001b[0m\u001b[0m\n\u001b[1;32m----> 4\u001b[1;33m \u001b[0mprint\u001b[0m\u001b[1;33m(\u001b[0m\u001b[0mstudent_A\u001b[0m\u001b[1;33m[\u001b[0m\u001b[1;36m1\u001b[0m\u001b[1;33m]\u001b[0m \u001b[1;33m+\u001b[0m \u001b[0mstudent_A\u001b[0m\u001b[1;33m[\u001b[0m\u001b[1;36m2\u001b[0m\u001b[1;33m]\u001b[0m\u001b[1;33m)\u001b[0m\u001b[1;33m\u001b[0m\u001b[1;33m\u001b[0m\u001b[0m\n\u001b[0m",
      "\u001b[1;31mTypeError\u001b[0m: can only concatenate str (not \"int\") to str"
     ]
    }
   ],
   "source": [
    "# But Be Aware, We do not know which element contain what information..\n",
    "print(student_A[2] + student_A[3])\n",
    "print(student_A[0] + student_A[1])\n",
    "print(student_A[1] + student_A[2])"
   ]
  },
  {
   "cell_type": "markdown",
   "metadata": {},
   "source": [
    "```TypeError :can only concatenate str to str | int to int```<br><br>\n",
    "This often happen in `List` when we try to store different data type into one list.<br>\n",
    "It is hard to get exact index for each element.<br>\n",
    "For that, in python, we use `Dictionary` to store key-value paired information."
   ]
  },
  {
   "cell_type": "markdown",
   "metadata": {},
   "source": [
    "<a id=dict></a>\n",
    "## Dictionary\n",
    "\n",
    "When we walk into a library to find books, we search the book by its title, author or published year.<br>\n",
    "Python use the same idea to store value for the varible, by creating the key for that value.<br>\n",
    "Thus `Dictionary` in python is key-value paired data structure."
   ]
  },
  {
   "cell_type": "code",
   "execution_count": 15,
   "metadata": {},
   "outputs": [
    {
     "name": "stdout",
     "output_type": "stream",
     "text": [
      "['Aung_Paing', 'McE', 3, 6]\n",
      "{'Name': 'Aung_Paing', 'Major': 'McE', 'Batch': 3, 'Year': 6}\n"
     ]
    }
   ],
   "source": [
    "# List\n",
    "student_A_list = [\"Aung_Paing\", \"McE\", 3, 6]\n",
    "student_B_list = [\"Soe_Pyae\", \"Civil\", 3, 6]\n",
    "\n",
    "\n",
    "# Dictionary\n",
    "student_A_dict = {\"Name\" : \"Aung_Paing\",\n",
    "                 \"Major\" : \"McE\",\n",
    "                 \"Batch\" : 3,\n",
    "                 \"Year\" : 6}\n",
    "\n",
    "student_B_dict = {\"Name\" : \"Soe_Pyae\",\n",
    "                 \"Major\" : \"Civil\",\n",
    "                 \"Batch\" : 3,\n",
    "                 \"Year\" : 6}\n",
    "\n",
    "\n",
    "print(student_A_list)\n",
    "print(student_A_dict)"
   ]
  },
  {
   "cell_type": "code",
   "execution_count": 18,
   "metadata": {},
   "outputs": [
    {
     "name": "stdout",
     "output_type": "stream",
     "text": [
      "Aung_Paing\n",
      "Name :  Aung_Paing\n",
      "Major :  McE\n",
      "Batch :  3\n",
      "Year :  6\n"
     ]
    }
   ],
   "source": [
    "# If we want to get \"Name\" info for student_A\n",
    "name_student_A = student_A[0]\n",
    "print(name_student_A)\n",
    "print()\n",
    "\n",
    "# But in dict, we just need to specified it. We do not need to remember the index of that info.\n",
    "print(\"Name : \", student_A_dict[\"Name\"])\n",
    "print(\"Major : \", student_A_dict[\"Major\"])\n",
    "print(\"Batch : \", student_A_dict[\"Batch\"])\n",
    "print(\"Year : \", student_A_dict[\"Year\"])"
   ]
  },
  {
   "cell_type": "markdown",
   "metadata": {},
   "source": [
    "<a id=tuple></a>\n",
    "## Tuple\n",
    "\n",
    "Sometimes, we need **immutable** data.<br>\n",
    "For example, *Coordinate* of a location, your *Birthday*, your significant other's *Phone Number* or may be even your *gene code*.<br>\n",
    "The data that we want to access but must be changed are stored with `Tuple`."
   ]
  },
  {
   "cell_type": "code",
   "execution_count": 9,
   "metadata": {},
   "outputs": [
    {
     "name": "stdout",
     "output_type": "stream",
     "text": [
      "<class 'tuple'>\n",
      "(11, 1, 1998)\n"
     ]
    }
   ],
   "source": [
    "home_coordinate = (123, 456)\n",
    "birthday = (11, 1, 1998)\n",
    "\n",
    "print(type(birthday))\n",
    "print(birthday)"
   ]
  },
  {
   "cell_type": "code",
   "execution_count": 11,
   "metadata": {},
   "outputs": [
    {
     "name": "stdout",
     "output_type": "stream",
     "text": [
      "1\n"
     ]
    },
    {
     "ename": "TypeError",
     "evalue": "'tuple' object does not support item assignment",
     "output_type": "error",
     "traceback": [
      "\u001b[1;31m---------------------------------------------------------------------------\u001b[0m",
      "\u001b[1;31mTypeError\u001b[0m                                 Traceback (most recent call last)",
      "\u001b[1;32m<ipython-input-11-c728f5c5b1e0>\u001b[0m in \u001b[0;36m<module>\u001b[1;34m\u001b[0m\n\u001b[0;32m      4\u001b[0m \u001b[1;33m\u001b[0m\u001b[0m\n\u001b[0;32m      5\u001b[0m \u001b[1;31m# Let's try to change the day....\u001b[0m\u001b[1;33m\u001b[0m\u001b[1;33m\u001b[0m\u001b[1;33m\u001b[0m\u001b[0m\n\u001b[1;32m----> 6\u001b[1;33m \u001b[0mbirthday\u001b[0m\u001b[1;33m[\u001b[0m\u001b[1;36m1\u001b[0m\u001b[1;33m]\u001b[0m \u001b[1;33m=\u001b[0m \u001b[1;36m10\u001b[0m\u001b[1;33m\u001b[0m\u001b[1;33m\u001b[0m\u001b[0m\n\u001b[0m",
      "\u001b[1;31mTypeError\u001b[0m: 'tuple' object does not support item assignment"
     ]
    }
   ],
   "source": [
    "# Let's try to access the month with index...\n",
    "month = birthday[1]\n",
    "print(month)\n",
    "\n",
    "# Let's try to change the day....\n",
    "birthday[1] = 10"
   ]
  },
  {
   "cell_type": "markdown",
   "metadata": {},
   "source": [
    "Thus, we can see the data in tuples cannot be changed"
   ]
  },
  {
   "cell_type": "markdown",
   "metadata": {},
   "source": [
    "<a id=set><a>\n",
    "## Set\n",
    "    \n",
    "`Set` as the name suggest, is a set of collection.<br>\n",
    "Sets ignore the order and the number of elements in a collection and only store the representatives in that collection."
   ]
  },
  {
   "cell_type": "code",
   "execution_count": 23,
   "metadata": {},
   "outputs": [
    {
     "name": "stdout",
     "output_type": "stream",
     "text": [
      "<class 'set'>\n",
      "{1, 2, 3, 4}\n"
     ]
    }
   ],
   "source": [
    "set_obj = {1, 2, 3, 1, 2, 3, 4}\n",
    "\n",
    "print(type(set_obj))\n",
    "print(set_obj)"
   ]
  },
  {
   "cell_type": "code",
   "execution_count": 25,
   "metadata": {},
   "outputs": [
    {
     "ename": "TypeError",
     "evalue": "'set' object is not subscriptable",
     "output_type": "error",
     "traceback": [
      "\u001b[0;31m---------------------------------------------------------------------------\u001b[0m",
      "\u001b[0;31mTypeError\u001b[0m                                 Traceback (most recent call last)",
      "\u001b[0;32m<ipython-input-25-c6b65031723d>\u001b[0m in \u001b[0;36m<module>\u001b[0;34m\u001b[0m\n\u001b[1;32m      1\u001b[0m \u001b[0;31m# We could not access the element in that set.\u001b[0m\u001b[0;34m\u001b[0m\u001b[0;34m\u001b[0m\u001b[0;34m\u001b[0m\u001b[0m\n\u001b[0;32m----> 2\u001b[0;31m \u001b[0mset_obj\u001b[0m\u001b[0;34m[\u001b[0m\u001b[0;36m0\u001b[0m\u001b[0;34m]\u001b[0m\u001b[0;34m\u001b[0m\u001b[0;34m\u001b[0m\u001b[0m\n\u001b[0m",
      "\u001b[0;31mTypeError\u001b[0m: 'set' object is not subscriptable"
     ]
    }
   ],
   "source": [
    "# We cannot access the elements in the set\n",
    "set_obj[0]"
   ]
  },
  {
   "cell_type": "markdown",
   "metadata": {},
   "source": [
    "<a id=tips></a>\n",
    "## Tips\n",
    "\n",
    "`Error`<br>\n",
    "When you encounter an **Error** in the code, try the following steps:\n",
    " 1. Stay calm & Read the error message carefully\n",
    " 2. Copy and paste the error message in google search or [stackoverflow](https://stackoverflow.com/).\n",
    " 3. Ask for help in forums if necessary.\n",
    "\n",
    "There are more than 8 million python users in the world and it is very likely that someone has encounterd the same problem as you did. So, don't hesitate to search for help.\n",
    "\n",
    "\n",
    "`Doc`<br>\n",
    "It is always helpful to read documentations for unkown subjects.<br>\n",
    "You can search for help locally in python with:"
   ]
  },
  {
   "cell_type": "code",
   "execution_count": 27,
   "metadata": {
    "collapsed": true,
    "jupyter": {
     "outputs_hidden": true
    }
   },
   "outputs": [
    {
     "name": "stdout",
     "output_type": "stream",
     "text": [
      "Help on set object:\n",
      "\n",
      "class set(object)\n",
      " |  set() -> new empty set object\n",
      " |  set(iterable) -> new set object\n",
      " |  \n",
      " |  Build an unordered collection of unique elements.\n",
      " |  \n",
      " |  Methods defined here:\n",
      " |  \n",
      " |  __and__(self, value, /)\n",
      " |      Return self&value.\n",
      " |  \n",
      " |  __contains__(...)\n",
      " |      x.__contains__(y) <==> y in x.\n",
      " |  \n",
      " |  __eq__(self, value, /)\n",
      " |      Return self==value.\n",
      " |  \n",
      " |  __ge__(self, value, /)\n",
      " |      Return self>=value.\n",
      " |  \n",
      " |  __getattribute__(self, name, /)\n",
      " |      Return getattr(self, name).\n",
      " |  \n",
      " |  __gt__(self, value, /)\n",
      " |      Return self>value.\n",
      " |  \n",
      " |  __iand__(self, value, /)\n",
      " |      Return self&=value.\n",
      " |  \n",
      " |  __init__(self, /, *args, **kwargs)\n",
      " |      Initialize self.  See help(type(self)) for accurate signature.\n",
      " |  \n",
      " |  __ior__(self, value, /)\n",
      " |      Return self|=value.\n",
      " |  \n",
      " |  __isub__(self, value, /)\n",
      " |      Return self-=value.\n",
      " |  \n",
      " |  __iter__(self, /)\n",
      " |      Implement iter(self).\n",
      " |  \n",
      " |  __ixor__(self, value, /)\n",
      " |      Return self^=value.\n",
      " |  \n",
      " |  __le__(self, value, /)\n",
      " |      Return self<=value.\n",
      " |  \n",
      " |  __len__(self, /)\n",
      " |      Return len(self).\n",
      " |  \n",
      " |  __lt__(self, value, /)\n",
      " |      Return self<value.\n",
      " |  \n",
      " |  __ne__(self, value, /)\n",
      " |      Return self!=value.\n",
      " |  \n",
      " |  __or__(self, value, /)\n",
      " |      Return self|value.\n",
      " |  \n",
      " |  __rand__(self, value, /)\n",
      " |      Return value&self.\n",
      " |  \n",
      " |  __reduce__(...)\n",
      " |      Return state information for pickling.\n",
      " |  \n",
      " |  __repr__(self, /)\n",
      " |      Return repr(self).\n",
      " |  \n",
      " |  __ror__(self, value, /)\n",
      " |      Return value|self.\n",
      " |  \n",
      " |  __rsub__(self, value, /)\n",
      " |      Return value-self.\n",
      " |  \n",
      " |  __rxor__(self, value, /)\n",
      " |      Return value^self.\n",
      " |  \n",
      " |  __sizeof__(...)\n",
      " |      S.__sizeof__() -> size of S in memory, in bytes\n",
      " |  \n",
      " |  __sub__(self, value, /)\n",
      " |      Return self-value.\n",
      " |  \n",
      " |  __xor__(self, value, /)\n",
      " |      Return self^value.\n",
      " |  \n",
      " |  add(...)\n",
      " |      Add an element to a set.\n",
      " |      \n",
      " |      This has no effect if the element is already present.\n",
      " |  \n",
      " |  clear(...)\n",
      " |      Remove all elements from this set.\n",
      " |  \n",
      " |  copy(...)\n",
      " |      Return a shallow copy of a set.\n",
      " |  \n",
      " |  difference(...)\n",
      " |      Return the difference of two or more sets as a new set.\n",
      " |      \n",
      " |      (i.e. all elements that are in this set but not the others.)\n",
      " |  \n",
      " |  difference_update(...)\n",
      " |      Remove all elements of another set from this set.\n",
      " |  \n",
      " |  discard(...)\n",
      " |      Remove an element from a set if it is a member.\n",
      " |      \n",
      " |      If the element is not a member, do nothing.\n",
      " |  \n",
      " |  intersection(...)\n",
      " |      Return the intersection of two sets as a new set.\n",
      " |      \n",
      " |      (i.e. all elements that are in both sets.)\n",
      " |  \n",
      " |  intersection_update(...)\n",
      " |      Update a set with the intersection of itself and another.\n",
      " |  \n",
      " |  isdisjoint(...)\n",
      " |      Return True if two sets have a null intersection.\n",
      " |  \n",
      " |  issubset(...)\n",
      " |      Report whether another set contains this set.\n",
      " |  \n",
      " |  issuperset(...)\n",
      " |      Report whether this set contains another set.\n",
      " |  \n",
      " |  pop(...)\n",
      " |      Remove and return an arbitrary set element.\n",
      " |      Raises KeyError if the set is empty.\n",
      " |  \n",
      " |  remove(...)\n",
      " |      Remove an element from a set; it must be a member.\n",
      " |      \n",
      " |      If the element is not a member, raise a KeyError.\n",
      " |  \n",
      " |  symmetric_difference(...)\n",
      " |      Return the symmetric difference of two sets as a new set.\n",
      " |      \n",
      " |      (i.e. all elements that are in exactly one of the sets.)\n",
      " |  \n",
      " |  symmetric_difference_update(...)\n",
      " |      Update a set with the symmetric difference of itself and another.\n",
      " |  \n",
      " |  union(...)\n",
      " |      Return the union of sets as a new set.\n",
      " |      \n",
      " |      (i.e. all elements that are in either set.)\n",
      " |  \n",
      " |  update(...)\n",
      " |      Update a set with the union of itself and others.\n",
      " |  \n",
      " |  ----------------------------------------------------------------------\n",
      " |  Static methods defined here:\n",
      " |  \n",
      " |  __new__(*args, **kwargs) from builtins.type\n",
      " |      Create and return a new object.  See help(type) for accurate signature.\n",
      " |  \n",
      " |  ----------------------------------------------------------------------\n",
      " |  Data and other attributes defined here:\n",
      " |  \n",
      " |  __hash__ = None\n",
      "\n"
     ]
    }
   ],
   "source": [
    "help(set_obj)"
   ]
  },
  {
   "cell_type": "code",
   "execution_count": 29,
   "metadata": {
    "collapsed": true,
    "jupyter": {
     "outputs_hidden": true
    }
   },
   "outputs": [
    {
     "data": {
      "text/plain": [
       "['__and__',\n",
       " '__class__',\n",
       " '__contains__',\n",
       " '__delattr__',\n",
       " '__dir__',\n",
       " '__doc__',\n",
       " '__eq__',\n",
       " '__format__',\n",
       " '__ge__',\n",
       " '__getattribute__',\n",
       " '__gt__',\n",
       " '__hash__',\n",
       " '__iand__',\n",
       " '__init__',\n",
       " '__init_subclass__',\n",
       " '__ior__',\n",
       " '__isub__',\n",
       " '__iter__',\n",
       " '__ixor__',\n",
       " '__le__',\n",
       " '__len__',\n",
       " '__lt__',\n",
       " '__ne__',\n",
       " '__new__',\n",
       " '__or__',\n",
       " '__rand__',\n",
       " '__reduce__',\n",
       " '__reduce_ex__',\n",
       " '__repr__',\n",
       " '__ror__',\n",
       " '__rsub__',\n",
       " '__rxor__',\n",
       " '__setattr__',\n",
       " '__sizeof__',\n",
       " '__str__',\n",
       " '__sub__',\n",
       " '__subclasshook__',\n",
       " '__xor__',\n",
       " 'add',\n",
       " 'clear',\n",
       " 'copy',\n",
       " 'difference',\n",
       " 'difference_update',\n",
       " 'discard',\n",
       " 'intersection',\n",
       " 'intersection_update',\n",
       " 'isdisjoint',\n",
       " 'issubset',\n",
       " 'issuperset',\n",
       " 'pop',\n",
       " 'remove',\n",
       " 'symmetric_difference',\n",
       " 'symmetric_difference_update',\n",
       " 'union',\n",
       " 'update']"
      ]
     },
     "execution_count": 29,
     "metadata": {},
     "output_type": "execute_result"
    }
   ],
   "source": [
    "dir(set_obj)"
   ]
  },
  {
   "cell_type": "code",
   "execution_count": 30,
   "metadata": {},
   "outputs": [
    {
     "data": {
      "text/plain": [
       "\u001b[0;31mType:\u001b[0m        set\n",
       "\u001b[0;31mString form:\u001b[0m {1, 2, 3, 4}\n",
       "\u001b[0;31mLength:\u001b[0m      4\n",
       "\u001b[0;31mDocstring:\u001b[0m  \n",
       "set() -> new empty set object\n",
       "set(iterable) -> new set object\n",
       "\n",
       "Build an unordered collection of unique elements.\n"
      ]
     },
     "metadata": {},
     "output_type": "display_data"
    }
   ],
   "source": [
    "set_obj?"
   ]
  },
  {
   "cell_type": "markdown",
   "metadata": {},
   "source": [
    "If you would like to know more about Data Structure in Python. Please visit official Python [cocumentation](https://docs.python.org/3/tutorial/datastructures.html)"
   ]
  }
 ],
 "metadata": {
  "kernelspec": {
   "display_name": "Python 3",
   "language": "python",
   "name": "python3"
  },
  "language_info": {
   "codemirror_mode": {
    "name": "ipython",
    "version": 3
   },
   "file_extension": ".py",
   "mimetype": "text/x-python",
   "name": "python",
   "nbconvert_exporter": "python",
   "pygments_lexer": "ipython3",
   "version": "3.8.5"
  }
 },
 "nbformat": 4,
 "nbformat_minor": 4
}
