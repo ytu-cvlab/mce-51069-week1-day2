{
 "cells": [
  {
   "cell_type": "markdown",
   "metadata": {},
   "source": [
    "# Classes\n",
    "\n",
    "Classes are the main building blocks in Object Oriented Programming (OOP). OOP is one of the hardest parts for beginners when they are first starting to learn Python. For this lesson we will discuss various knowledge about OOP in Python by covering the following topics:\n",
    "\n",
    "- [Intro to OOP](#intro)\n",
    "- [OOP: Class and Attributes](#class)\n",
    "- [OOP: Methods](#methods)\n",
    "- [OOP: Inheritance](#inheritance)"
   ]
  },
  {
   "cell_type": "markdown",
   "metadata": {},
   "source": [
    "<a id=intro></a>\n",
    "## Intro to OOP\n",
    "\n",
    "Let's start the lesson by remembering about the Basic Python Objects. For example:"
   ]
  },
  {
   "cell_type": "code",
   "execution_count": 3,
   "metadata": {},
   "outputs": [],
   "source": [
    "lst = [0,1,2,3]"
   ]
  },
  {
   "cell_type": "markdown",
   "metadata": {},
   "source": [
    "Remember how we call methods on a list?"
   ]
  },
  {
   "cell_type": "code",
   "execution_count": 4,
   "metadata": {},
   "outputs": [
    {
     "data": {
      "text/plain": [
       "[0, 1, 2, 3, 2]"
      ]
     },
     "execution_count": 4,
     "metadata": {},
     "output_type": "execute_result"
    }
   ],
   "source": [
    "lst.append(2)\n",
    "lst"
   ]
  },
  {
   "cell_type": "markdown",
   "metadata": {},
   "source": [
    "We have already learned about how to create functions. What we will be doing is constructing our own objects and applying methods on them. For now, let's explore Objects in general."
   ]
  },
  {
   "cell_type": "markdown",
   "metadata": {},
   "source": [
    "### Objects\n",
    "\n",
    "Everything in Python is an object. We can use type() to check the type of object:"
   ]
  },
  {
   "cell_type": "code",
   "execution_count": 5,
   "metadata": {},
   "outputs": [
    {
     "name": "stdout",
     "output_type": "stream",
     "text": [
      "<class 'int'>\n",
      "<class 'list'>\n",
      "<class 'tuple'>\n",
      "<class 'dict'>\n"
     ]
    }
   ],
   "source": [
    "print(type(1))\n",
    "print(type([]))\n",
    "print(type(()))\n",
    "print(type({}))"
   ]
  },
  {
   "cell_type": "markdown",
   "metadata": {},
   "source": [
    "So we know all these things are objects, so how can we create our own Object types? That is where the `class` keyword comes in."
   ]
  },
  {
   "cell_type": "markdown",
   "metadata": {},
   "source": [
    "<a id=class></a>\n",
    "## Class and Attributes\n",
    "\n",
    "### class\n",
    "\n",
    "User defined objects are created using the `class` keyword. The **class** is a blueprint that defines the nature of a future object. From classes we can construct instances. An instance is a specific object created from a particular class. For example:"
   ]
  },
  {
   "cell_type": "code",
   "execution_count": 6,
   "metadata": {},
   "outputs": [],
   "source": [
    "t = (1,2,3)"
   ]
  },
  {
   "cell_type": "markdown",
   "metadata": {},
   "source": [
    "We created the object *t* which was an instance of a tuple object.\n",
    "\n",
    "Now, Let's try a step up and create our own class."
   ]
  },
  {
   "cell_type": "code",
   "execution_count": 7,
   "metadata": {},
   "outputs": [
    {
     "name": "stdout",
     "output_type": "stream",
     "text": [
      "<class '__main__.Student'>\n"
     ]
    }
   ],
   "source": [
    "# Construct a new object type called Student\n",
    "class Student:\n",
    "    pass\n",
    "\n",
    "# Instance of the class Student\n",
    "x = Student()\n",
    "\n",
    "print(type(x))"
   ]
  },
  {
   "cell_type": "markdown",
   "metadata": {},
   "source": [
    "Most of the programmers give classes a name that starts with a capital letter by convention. Note how **x** is now the instance of a Student class. In other words, we instantiate the Student class.\n",
    "\n",
    "At the inside of the class we currently just have `pass` keyword. But we can define class attributes and methods."
   ]
  },
  {
   "cell_type": "markdown",
   "metadata": {},
   "source": [
    "> An **attribute** is a characteristic of an object. <br>A **method** is an operation we can perform with the object.\n",
    "\n",
    "For example, we can create a class called Dog. An attribute of a dog may be its breed or its name, while a method of a dog may be defined by a .bark() method which returns a sound."
   ]
  },
  {
   "cell_type": "markdown",
   "metadata": {},
   "source": [
    "### Attributes\n",
    "\n",
    "The syntax for creating an attribute is:\n",
    "```\n",
    "self.attribute = something\n",
    "```\n",
    "There is a special method called:\n",
    "```\n",
    "__init__()\n",
    "```\n",
    "This method is used to initialize the attributes of an object. For example:"
   ]
  },
  {
   "cell_type": "code",
   "execution_count": 5,
   "metadata": {},
   "outputs": [],
   "source": [
    "class Student:\n",
    "    def __init__(self, name):\n",
    "        self.name = name\n",
    "    \n",
    "a = Student(name = 'Aung Aung')\n",
    "b = Student(name = 'Soe Soe')"
   ]
  },
  {
   "cell_type": "markdown",
   "metadata": {},
   "source": [
    "Let's break down what we have above. The special method\n",
    "```\n",
    "__init__()\n",
    "```\n",
    "is called automatically right after the object has been created.\n",
    "```\n",
    "def __init__(self, name):\n",
    "```\n",
    "Each attribute in a class definition begins with a reference to the instance object. It is by convention named self. The *name* is the argument. The value is passed during the class instantiation.\n",
    "```\n",
    "self.name = name\n",
    "```\n",
    "> Note: `self.name` can be given any desire variable names; no need to be `name`. For example, `self.student_name = name`\n",
    "\n",
    "Now we have created two instances of the Student class. With two different names, we can then use these attributes like this:"
   ]
  },
  {
   "cell_type": "code",
   "execution_count": 6,
   "metadata": {},
   "outputs": [
    {
     "data": {
      "text/plain": [
       "'Aung Aung'"
      ]
     },
     "execution_count": 6,
     "metadata": {},
     "output_type": "execute_result"
    }
   ],
   "source": [
    "a.name"
   ]
  },
  {
   "cell_type": "code",
   "execution_count": 7,
   "metadata": {},
   "outputs": [
    {
     "data": {
      "text/plain": [
       "'Soe Soe'"
      ]
     },
     "execution_count": 7,
     "metadata": {},
     "output_type": "execute_result"
    }
   ],
   "source": [
    "b.name"
   ]
  },
  {
   "cell_type": "markdown",
   "metadata": {},
   "source": [
    "Note how we don't have any parentheses after name; this is because it is an attribute and doesn't take any arguments.\n",
    "\n",
    "Lets add more attributes to our **Student** class."
   ]
  },
  {
   "cell_type": "code",
   "execution_count": 11,
   "metadata": {},
   "outputs": [],
   "source": [
    "class Student:\n",
    "    def __init__(self, name, major, batch, age, passedlastterm):\n",
    "        self.name = name\n",
    "        self.major = major\n",
    "        self.batch = batch\n",
    "        self.age = age\n",
    "        self.passedlastterm = passedlastterm\n",
    "        \n",
    "\n",
    "student_a = Student(\"Myo Myo\", \"EC\", 3, 24, True)\n",
    "student_b = Student(\"Su Su\", \"Text\", 2, 18, False)"
   ]
  },
  {
   "cell_type": "code",
   "execution_count": 12,
   "metadata": {},
   "outputs": [
    {
     "name": "stdout",
     "output_type": "stream",
     "text": [
      "\n",
      "Student a Data :\n",
      "Myo Myo\n",
      "EC\n",
      "3\n",
      "24\n",
      "True\n",
      "\n",
      "Student b Data :\n",
      "Su Su\n",
      "Text\n",
      "2\n",
      "18\n",
      "False\n"
     ]
    }
   ],
   "source": [
    "print(\"\\nStudent a Data :\")\n",
    "print(student_a.name)\n",
    "print(student_a.major)\n",
    "print(student_a.batch)\n",
    "print(student_a.age)\n",
    "print(student_a.passedlastterm)\n",
    "\n",
    "print(\"\\nStudent b Data :\")\n",
    "print(student_b.name)\n",
    "print(student_b.major)\n",
    "print(student_b.batch)\n",
    "print(student_b.age)\n",
    "print(student_b.passedlastterm)"
   ]
  },
  {
   "cell_type": "markdown",
   "metadata": {},
   "source": [
    "<a id=methods></a>\n",
    "## Methods\n",
    "\n",
    "Methods are functions defined inside the body of a class. They are used to perform operations with the attributes of our objects. Methods are a key concept of the OOP pattern. They are essential to dividing responsibilities in programming, especially in large applications.\n",
    "\n",
    "Let's go through an example of creating a Square class:"
   ]
  },
  {
   "cell_type": "code",
   "execution_count": 15,
   "metadata": {},
   "outputs": [
    {
     "name": "stdout",
     "output_type": "stream",
     "text": [
      "Length is  4\n",
      "Area is  16\n",
      "Now length is  6\n",
      "Now area is  36\n"
     ]
    }
   ],
   "source": [
    "class Square:\n",
    "    \n",
    "    # Square gets instantiated\n",
    "    def __init__(self, length = 4):\n",
    "        self.length = length\n",
    "        self.area   = length * length\n",
    "    \n",
    "    # Resetting length\n",
    "    def setLength(self, new_length):\n",
    "        self.length = new_length\n",
    "        self.area = new_length * new_length\n",
    "        \n",
    "s = Square()\n",
    "\n",
    "print('Length is ', s.length)\n",
    "print('Area is ', s.area)\n",
    "\n",
    "s.setLength(6)\n",
    "print('Now length is ', s.length)\n",
    "print('Now area is ', s.area)"
   ]
  },
  {
   "cell_type": "markdown",
   "metadata": {},
   "source": [
    "In this Square class, we have defined two attributes: `self.length` and `self.area`.\n",
    "```\n",
    "def setLength(self, new_length):\n",
    "```\n",
    "is called **method** of the class, which we use to interact with the user and manipulate the class attributes. Notice how we used `self.` notation to reference attributes of the class within the method calls. \n",
    "\n",
    "Now, Let's add some methods to **Student** class."
   ]
  },
  {
   "cell_type": "code",
   "execution_count": 17,
   "metadata": {},
   "outputs": [
    {
     "name": "stdout",
     "output_type": "stream",
     "text": [
      "Student a Result\n",
      "Congrats, you can move to next term.\n",
      "\n",
      "Student b Result\n",
      "Sorry, you need to retake the exam.\n"
     ]
    }
   ],
   "source": [
    "class Student:\n",
    "    def __init__(self, name, major, batch, age, passedlastterm):\n",
    "        self.name = name\n",
    "        self.major = major\n",
    "        self.batch = batch\n",
    "        self.age = age\n",
    "        self.passedlastterm = passedlastterm\n",
    "        \n",
    "    def print_result(self):\n",
    "        if self.passedlastterm:\n",
    "            print(\"Congrats, you can move to next term.\")\n",
    "        else:\n",
    "            print(\"Sorry, you need to retake the exam.\")\n",
    "\n",
    "            \n",
    "student_a = Student(\"Myo Myo\", \"EC\", 3, 24, True)\n",
    "print(\"Student a Result\")\n",
    "student_a.print_result()\n",
    "\n",
    "student_b = Student(\"Su Su\", \"Textile\", 2, 18, False)\n",
    "print(\"\\nStudent b Result\")\n",
    "student_b.print_result()"
   ]
  },
  {
   "cell_type": "markdown",
   "metadata": {},
   "source": [
    "<a id=inheritance></a>\n",
    "## Inheritance\n",
    "\n",
    "Inheritance is a way to form new classes using classes that have already been defined. The newly formed classes are called derived classes, the classes that we derive from are called base classes. Important benefits of inheritance are code reuse and reduction of complexity of a program. The derived classes override or extend the functionality of base classes.\n",
    "\n",
    "Let's use our **Student** class again."
   ]
  },
  {
   "cell_type": "code",
   "execution_count": 19,
   "metadata": {},
   "outputs": [],
   "source": [
    "class Student:\n",
    "    def __init__(self, name, major, batch, age, passedlastterm):\n",
    "        self.name = name\n",
    "        self.major = major\n",
    "        self.batch = batch\n",
    "        self.age = age\n",
    "        self.passedlastterm = passedlastterm\n",
    "        \n",
    "    def print_result(self):\n",
    "        if self.passedlastterm:\n",
    "            print(\"Congrats, you can move to next term.\")\n",
    "        else:\n",
    "            print(\"Sorry, you need to retake the exam.\")"
   ]
  },
  {
   "cell_type": "code",
   "execution_count": 24,
   "metadata": {},
   "outputs": [],
   "source": [
    "# Inheritance and not change anything.\n",
    "class ExchangeStudent(Student):\n",
    "    pass"
   ]
  },
  {
   "cell_type": "markdown",
   "metadata": {},
   "source": [
    "In this example, we have two classes: **Student** and **ExchangeStudent**. The Student is the base class, the ExchangeStudent is the derived class.\n",
    "\n",
    "The derived class inherits the functionality of the base class. This is shown in the example below."
   ]
  },
  {
   "cell_type": "code",
   "execution_count": 25,
   "metadata": {},
   "outputs": [
    {
     "name": "stdout",
     "output_type": "stream",
     "text": [
      "\n",
      "Student ex Result\n",
      "Congrats, you can move to next term.\n"
     ]
    }
   ],
   "source": [
    "# ExchangeStudent should have all properties and methods Student has.\n",
    "student_ex = ExchangeStudent(\"Htet Htet\", \"Civil\", 1, 25, True)\n",
    "\n",
    "print(\"\\nStudent ex Result\")\n",
    "student_ex.print_result()"
   ]
  },
  {
   "cell_type": "markdown",
   "metadata": {},
   "source": [
    "The derived class can also extend the functionality of the base class. This is shown in the example below."
   ]
  },
  {
   "cell_type": "code",
   "execution_count": 26,
   "metadata": {},
   "outputs": [],
   "source": [
    "# Let's add more properties to ExchangeStudent\n",
    "class ExchangeStudent(Student):\n",
    "    def __init__(self, name, major, batch, age, passedlastterm, nationality):\n",
    "        super(ExchangeStudent, self).__init__(name, major, batch, age, passedlastterm)\n",
    "        self.nationality = nationality"
   ]
  },
  {
   "cell_type": "code",
   "execution_count": 31,
   "metadata": {},
   "outputs": [
    {
     "name": "stdout",
     "output_type": "stream",
     "text": [
      "\n",
      "Student ex Result\n",
      "Congrats, you can move to next term.\n",
      "Ex-Student is from Singapore\n"
     ]
    }
   ],
   "source": [
    "student_ex = ExchangeStudent(\"Htet Htet\", \"Civil\", 1, 25, True, \"Singapore\")\n",
    "\n",
    "print(\"\\nStudent ex Result\")\n",
    "student_ex.print_result()\n",
    "print(f\"Ex-Student is from {student_ex.nationality}\")"
   ]
  },
  {
   "cell_type": "markdown",
   "metadata": {},
   "source": [
    "![](animations/OOP.gif)"
   ]
  },
  {
   "cell_type": "markdown",
   "metadata": {},
   "source": [
    "## Further Resources\n",
    "\n",
    "If you want to learn more about Object Oriented Programming (OOP) in more details, please visit to official Python [documentation](https://docs.python.org/3/tutorial/classes.html#a-first-look-at-classes). You can also check [this](https://realpython.com/python3-object-oriented-programming/) blog post about OOP."
   ]
  }
 ],
 "metadata": {
  "kernelspec": {
   "display_name": "Python 3",
   "language": "python",
   "name": "python3"
  },
  "language_info": {
   "codemirror_mode": {
    "name": "ipython",
    "version": 3
   },
   "file_extension": ".py",
   "mimetype": "text/x-python",
   "name": "python",
   "nbconvert_exporter": "python",
   "pygments_lexer": "ipython3",
   "version": "3.8.5"
  }
 },
 "nbformat": 4,
 "nbformat_minor": 4
}
