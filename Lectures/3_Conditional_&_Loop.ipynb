{
 "cells": [
  {
   "cell_type": "markdown",
   "metadata": {},
   "source": [
    "# Conditionals & Loops in Python\n",
    "\n",
    "[Conditional](#conditional)<br>\n",
    "[Loop](#loop)"
   ]
  },
  {
   "cell_type": "markdown",
   "metadata": {},
   "source": [
    "<a id=conditional></a>\n",
    "## Conditionals\n",
    "\n",
    "`if` Statements in Python allow us to tell the computer to perform alternative actions based on a certain set of results.\n",
    "\n",
    "In other words, we are telling the computer : \"Hey if this case happens, perform some action\"\n",
    "\n",
    "We can then expand the idea further with `elif` and `else` statements, which allows us to tell the computer: \"Hey if this case happens, perform some action. Else, if another case happens, perform some other action. Else, if none of the above cases happened, perform this action\"\n",
    "\n",
    "Let's go ahead and look at the syntax format for `if-else` cases to get a better idea of this:"
   ]
  },
  {
   "cell_type": "code",
   "execution_count": 1,
   "metadata": {},
   "outputs": [
    {
     "name": "stdout",
     "output_type": "stream",
     "text": [
      "The weather is fine today, I am going out.\n"
     ]
    }
   ],
   "source": [
    "# Simple if-else case\n",
    "rain = False\n",
    "\n",
    "if not rain:\n",
    "    print(\"The weather is fine today, I am going out.\")\n",
    "else:\n",
    "    print(\"It is raining, I cannot go out...\")\n",
    "    "
   ]
  },
  {
   "cell_type": "code",
   "execution_count": 2,
   "metadata": {},
   "outputs": [
    {
     "name": "stdout",
     "output_type": "stream",
     "text": [
      "Today weather is fine, I am going out.\n"
     ]
    }
   ],
   "source": [
    "# Or this way:\n",
    "if rain==True:\n",
    "    print(\"It is raining, I cannot go out...\")\n",
    "else:\n",
    "    print(\"Today weather is fine, I am going out.\")"
   ]
  },
  {
   "cell_type": "code",
   "execution_count": 4,
   "metadata": {},
   "outputs": [
    {
     "name": "stdout",
     "output_type": "stream",
     "text": [
      "I am going to School Today\n"
     ]
    }
   ],
   "source": [
    "# sometime, in the program, we have to deal with other conditions\n",
    "rain = False\n",
    "weekday = True\n",
    "\n",
    "if not rain and weekday:\n",
    "    print(\"I am going to School Today\")\n",
    "\n",
    "elif not rain and not weekday:\n",
    "    print(\"I am going out to play\")\n",
    "\n",
    "else:\n",
    "    # Rain and weekday\n",
    "    print(\"Even though it is raining, I still have to go to school ...\")"
   ]
  },
  {
   "cell_type": "markdown",
   "metadata": {},
   "source": [
    "Also, we could check the `String` and `Int` variables:<br>\n",
    "\n",
    "> Note: here, when checking `if Condition == True`, we use `==` instead of `=`"
   ]
  },
  {
   "cell_type": "code",
   "execution_count": 6,
   "metadata": {},
   "outputs": [
    {
     "name": "stdout",
     "output_type": "stream",
     "text": [
      "Add Operation\n"
     ]
    }
   ],
   "source": [
    "# Check String\n",
    "operation = \"add\"\n",
    "\n",
    "if operation == \"add\":\n",
    "    print(\"Add Operation\")\n",
    "    \n",
    "elif operation == \"sub\":\n",
    "    print(\"Sub Operation\")\n",
    "    \n",
    "elif operation == \"mul\":\n",
    "    print(\"Multiplication Operation\")\n",
    "    \n",
    "elif operation == \"div\":\n",
    "    print(\"Division Operation\")"
   ]
  },
  {
   "cell_type": "code",
   "execution_count": 15,
   "metadata": {},
   "outputs": [
    {
     "name": "stdout",
     "output_type": "stream",
     "text": [
      "There exists value for that int_obj\n"
     ]
    }
   ],
   "source": [
    "# Check Int\n",
    "\n",
    "int_obj = 10\n",
    "# int_obj = -1  # Comment out to test\n",
    "# int_obj = 0\n",
    "# int_obj = None\n",
    "\n",
    "if int_obj:\n",
    "    print(\"There exists value for that int_obj\")\n",
    "else:\n",
    "    print(\"sorry, the input is None or Zero\")"
   ]
  },
  {
   "cell_type": "markdown",
   "metadata": {},
   "source": [
    "<a id=loop></a>\n",
    "## Loops\n",
    "\n",
    "There are two main types of loops in python.\n",
    " 1. for\n",
    " 2. while\n",
    " \n",
    " \n",
    "Generally, `For` iterates for the given range,<br>\n",
    "`While` checks the condition and continue iteration until condition is False.\n",
    "\n",
    "```python\n",
    "for range():\n",
    "```\n",
    "\n",
    "```python\n",
    "while condition:\n",
    "```"
   ]
  },
  {
   "cell_type": "markdown",
   "metadata": {},
   "source": [
    "# For"
   ]
  },
  {
   "cell_type": "markdown",
   "metadata": {},
   "source": [
    "A `for` loop acts as an iterator in Python; it goes through items that are in a sequence or any other iterable item. Objects, that we've learned and we can iterate over, include strings, lists, tuples, and even built-in iterables for dictionaries, such as keys or values.\n",
    "\n",
    "Here's the general format for a for loop in Python:"
   ]
  },
  {
   "cell_type": "markdown",
   "metadata": {},
   "source": [
    "```python\n",
    "for item in object:\n",
    "    statements to do things\n",
    "```"
   ]
  },
  {
   "cell_type": "code",
   "execution_count": 19,
   "metadata": {},
   "outputs": [
    {
     "name": "stdout",
     "output_type": "stream",
     "text": [
      "0\n",
      "1\n",
      "2\n",
      "3\n",
      "4\n",
      "5\n",
      "6\n",
      "7\n",
      "8\n",
      "9\n",
      "\n"
     ]
    }
   ],
   "source": [
    "# Loop for 10 times\n",
    "for i in range(10):\n",
    "    print(i)\n",
    "    \n",
    "print()"
   ]
  },
  {
   "cell_type": "code",
   "execution_count": 20,
   "metadata": {},
   "outputs": [
    {
     "name": "stdout",
     "output_type": "stream",
     "text": [
      "1\n",
      "2\n",
      "3\n",
      "4\n",
      "5\n",
      "6\n",
      "7\n",
      "8\n",
      "9\n"
     ]
    }
   ],
   "source": [
    "# Let's access element from list\n",
    "list_obj = [1, 2, 3, 4, 5, 6, 7, 8, 9]\n",
    "for obj in list_obj:\n",
    "    print(obj)"
   ]
  },
  {
   "cell_type": "markdown",
   "metadata": {},
   "source": [
    "`Tuples` have a special quality when it comes to `for` loops. If you are iterating through a sequence that contains tuples, the item can actually be the tuple itself, this is an example of tuple unpacking. During the `for` loop we will be unpacking the tuple inside of a sequence and we can access the individual items inside that `tuple`."
   ]
  },
  {
   "cell_type": "code",
   "execution_count": 6,
   "metadata": {},
   "outputs": [],
   "source": [
    "list1 = [(0,1),(2,3),(4,5)]"
   ]
  },
  {
   "cell_type": "code",
   "execution_count": 7,
   "metadata": {},
   "outputs": [
    {
     "name": "stdout",
     "output_type": "stream",
     "text": [
      "(0, 1)\n",
      "(2, 3)\n",
      "(4, 5)\n"
     ]
    }
   ],
   "source": [
    "for tup in list1:\n",
    "    print(tup)"
   ]
  },
  {
   "cell_type": "code",
   "execution_count": 9,
   "metadata": {},
   "outputs": [
    {
     "name": "stdout",
     "output_type": "stream",
     "text": [
      "0\n",
      "2\n",
      "4\n"
     ]
    }
   ],
   "source": [
    "# Now with unpacking!\n",
    "for (t1,t2) in list1:\n",
    "    print(t1)"
   ]
  },
  {
   "cell_type": "markdown",
   "metadata": {},
   "source": [
    "In the above case, the first element of each tuple is printed out."
   ]
  },
  {
   "cell_type": "code",
   "execution_count": 10,
   "metadata": {},
   "outputs": [
    {
     "name": "stdout",
     "output_type": "stream",
     "text": [
      "1\n",
      "3\n",
      "5\n"
     ]
    }
   ],
   "source": [
    "# Now with unpacking!\n",
    "for (t1,t2) in list1:\n",
    "    print(t2)"
   ]
  },
  {
   "cell_type": "markdown",
   "metadata": {},
   "source": [
    "Here, the second element of each tuple gets printed out. \n",
    "\n",
    "With tuples in a sequence we can access the items inside of them through unpacking! The reason this is important is because many objects will deliver their iterables through tuples."
   ]
  },
  {
   "cell_type": "markdown",
   "metadata": {},
   "source": [
    "### Nested For Loop\n",
    "\n",
    "`Nested For`, means *for loop* inside a *for loop*"
   ]
  },
  {
   "cell_type": "code",
   "execution_count": 24,
   "metadata": {},
   "outputs": [
    {
     "name": "stdout",
     "output_type": "stream",
     "text": [
      "1\n",
      "2\n",
      "3\n",
      "4\n",
      "5\n",
      "6\n",
      "7\n",
      "8\n"
     ]
    }
   ],
   "source": [
    "nested_list = [[1, 2, 3, 4],\n",
    "               [5, 6, 7, 8]]\n",
    "\n",
    "# To access nested list, we could use nested for loop\n",
    "for row in nested_list:\n",
    "    for col in row:\n",
    "        print(col)"
   ]
  },
  {
   "cell_type": "markdown",
   "metadata": {},
   "source": [
    "## While"
   ]
  },
  {
   "cell_type": "markdown",
   "metadata": {},
   "source": [
    "The `while` statement in Python is one of most general ways to perform iteration. A `while` statement will repeatedly execute a single statement or group of statements as long as the condition is true. The reason it is called a 'loop' is because the code statements are looped through over and over again until the condition is no longer met."
   ]
  },
  {
   "cell_type": "markdown",
   "metadata": {},
   "source": [
    "The general format of a while loop is:\n",
    "```python\n",
    "while condition:\n",
    "    code statements\n",
    "else:\n",
    "    final code statements\n",
    "```"
   ]
  },
  {
   "cell_type": "markdown",
   "metadata": {},
   "source": [
    "Let’s look at a few simple `while` loops in action."
   ]
  },
  {
   "cell_type": "code",
   "execution_count": 21,
   "metadata": {},
   "outputs": [
    {
     "name": "stdout",
     "output_type": "stream",
     "text": [
      "0\n",
      "1\n",
      "2\n",
      "3\n",
      "4\n",
      "5\n",
      "6\n",
      "7\n",
      "8\n",
      "9\n"
     ]
    }
   ],
   "source": [
    "# While loop and loop for 10 times.\n",
    "i = 0\n",
    "while i<10:\n",
    "    print(i)\n",
    "    i+=1"
   ]
  },
  {
   "cell_type": "code",
   "execution_count": 13,
   "metadata": {},
   "outputs": [
    {
     "name": "stdout",
     "output_type": "stream",
     "text": [
      "x is currently: 0\n",
      "x is still less than 5, keep adding 1 to x\n",
      "x is currently: 1\n",
      "x is still less than 5, keep adding 1 to x\n",
      "x is currently: 2\n",
      "x is still less than 5, keep adding 1 to x\n",
      "x is currently: 3\n",
      "x is still less than 5, keep adding 1 to x\n",
      "x is currently: 4\n",
      "x is still less than 5, keep adding 1 to x\n"
     ]
    }
   ],
   "source": [
    "x = 0\n",
    "\n",
    "while x < 5:\n",
    "    print('x is currently:',x)\n",
    "    print('x is still less than 5, keep adding 1 to x')\n",
    "    x += 1"
   ]
  },
  {
   "cell_type": "markdown",
   "metadata": {},
   "source": [
    "Notice how many times the print statements occurred and how the `while` loop kept going until the True condition was met, which occurred once x==5. It's important to note that once this occurred the code stopped. Let's see how we could add an `else` statement:"
   ]
  },
  {
   "cell_type": "code",
   "execution_count": 14,
   "metadata": {},
   "outputs": [
    {
     "name": "stdout",
     "output_type": "stream",
     "text": [
      "x is currently:  0\n",
      "x is still less than 5, keep adding 1 to x\n",
      "x is currently:  1\n",
      "x is still less than 5, keep adding 1 to x\n",
      "x is currently:  2\n",
      "x is still less than 5, keep adding 1 to x\n",
      "x is currently:  3\n",
      "x is still less than 5, keep adding 1 to x\n",
      "x is currently:  4\n",
      "x is still less than 5, keep adding 1 to x\n",
      "All Done!\n"
     ]
    }
   ],
   "source": [
    "x = 0\n",
    "\n",
    "while x < 5:\n",
    "    print('x is currently: ',x)\n",
    "    print('x is still less than 5, keep adding 1 to x')\n",
    "    x += 1\n",
    "else:\n",
    "    print('All Done!')"
   ]
  },
  {
   "cell_type": "markdown",
   "metadata": {},
   "source": [
    "When the condition isn't true anymore, that is, x is now 5, and so the *else* statement **All Done!** is printed out instead."
   ]
  },
  {
   "cell_type": "markdown",
   "metadata": {},
   "source": [
    "## Further Resources\n",
    "\n",
    "If you want to learn more about conditional statements and loops in more details, please visit to official Python [documentation](https://docs.python.org/3/tutorial/controlflow.html#more-control-flow-tools). You can also learn more about [conditional statements](https://realpython.com/python-conditional-statements/), [for loops](https://realpython.com/python-for-loop/) and [while loops](https://realpython.com/python-while-loop/) in these posts."
   ]
  },
  {
   "cell_type": "code",
   "execution_count": null,
   "metadata": {},
   "outputs": [],
   "source": []
  }
 ],
 "metadata": {
  "kernelspec": {
   "display_name": "Python 3",
   "language": "python",
   "name": "python3"
  },
  "language_info": {
   "codemirror_mode": {
    "name": "ipython",
    "version": 3
   },
   "file_extension": ".py",
   "mimetype": "text/x-python",
   "name": "python",
   "nbconvert_exporter": "python",
   "pygments_lexer": "ipython3",
   "version": "3.8.5"
  }
 },
 "nbformat": 4,
 "nbformat_minor": 4
}
